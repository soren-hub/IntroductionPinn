{
 "cells": [
  {
   "cell_type": "code",
   "execution_count": 1,
   "metadata": {
    "id": "PtSpF4qpDEOM"
   },
   "outputs": [],
   "source": [
    "import torch \n",
    "import torch.nn as nn\n",
    "import torch.nn as nn\n",
    "import numpy as np \n",
    "import matplotlib.pyplot as plt\n",
    "\n",
    "# CUDA support \n",
    "if torch.cuda.is_available():\n",
    "    device = torch.device('cuda')\n",
    "else:\n",
    "    device = torch.device('cpu')"
   ]
  },
  {
   "cell_type": "code",
   "execution_count": 2,
   "metadata": {
    "id": "E5SkVuCLsKbe"
   },
   "outputs": [],
   "source": [
    "def oscillator(d, w0, x):\n",
    "    \n",
    "    \"\"\"\n",
    "    @author: bmoseley\n",
    "    Defines the analytical solution to the 1D underdamped harmonic oscillator problem. \n",
    "    Equations taken from: https://beltoforion.de/en/harmonic_oscillator/\n",
    "    \"\"\"\n",
    "    assert d < w0\n",
    "    w = np.sqrt(w0**2-d**2)\n",
    "    phi = np.arctan(-d/w)\n",
    "    A = 1/(2*np.cos(phi))\n",
    "    cos = np.cos(phi+w*x)\n",
    "    sin = np.sin(phi+w*x)\n",
    "    exp = np.exp(-d*x)\n",
    "    y  = exp*2*A*cos\n",
    "    return y"
   ]
  },
  {
   "cell_type": "code",
   "execution_count": 3,
   "metadata": {
    "id": "cFzNhFrxsbBT"
   },
   "outputs": [],
   "source": [
    "d, w0 = 2, 20"
   ]
  },
  {
   "cell_type": "code",
   "execution_count": 31,
   "metadata": {
    "id": "dhlVvtRluxJu"
   },
   "outputs": [],
   "source": [
    "x = np.linspace(0,1,500)\n",
    "x_test=np.linspace(1,2,500)"
   ]
  },
  {
   "cell_type": "code",
   "execution_count": 32,
   "metadata": {
    "id": "YN_r5B7HvBOK"
   },
   "outputs": [],
   "source": [
    "x = np.array([x for _ in range(100)])\n",
    "x_test= np.array([x_test for _ in range(100)])\n"
   ]
  },
  {
   "cell_type": "code",
   "execution_count": 33,
   "metadata": {
    "colab": {
     "base_uri": "https://localhost:8080/",
     "height": 300
    },
    "id": "Lcbr1y_2sQss",
    "outputId": "1c76cdb9-e5dc-4195-965c-02f1dd608130"
   },
   "outputs": [
    {
     "name": "stdout",
     "output_type": "stream",
     "text": [
      "(100, 500) (100, 500)\n"
     ]
    },
    {
     "data": {
      "text/plain": [
       "<matplotlib.collections.PathCollection at 0x276a829f048>"
      ]
     },
     "execution_count": 33,
     "metadata": {},
     "output_type": "execute_result"
    },
    {
     "data": {
      "image/png": "[encoded data removed]",
      "text/plain": [
       "<Figure size 432x288 with 1 Axes>"
      ]
     },
     "metadata": {
      "needs_background": "light"
     },
     "output_type": "display_data"
    }
   ],
   "source": [
    "\n",
    "N = 100 # number of samples\n",
    "y = oscillator(d, w0, x).astype(np.float32)\n",
    "y_test =oscillator(d, w0, x_test).astype(np.float32)\n",
    "print(x.shape,y.shape)\n",
    "plt.scatter(x[1],y[1])\n",
    "plt.scatter(x_test[1],y_test[1])"
   ]
  },
  {
   "cell_type": "code",
   "execution_count": 131,
   "metadata": {},
   "outputs": [],
   "source": [
    "def oscillator(d, w0, x):\n",
    "    \n",
    "    \"\"\"\n",
    "    @author: bmoseley\n",
    "    Defines the analytical solution to the 1D underdamped harmonic oscillator problem. \n",
    "    Equations taken from: https://beltoforion.de/en/harmonic_oscillator/\n",
    "    \"\"\"\n",
    "    assert d < w0\n",
    "    w = np.sqrt(w0**2-d**2)\n",
    "    phi = np.arctan(-d/w)\n",
    "    A = 1/(2*np.cos(phi))\n",
    "    cos = torch.cos(phi+w*x)\n",
    "    sin = torch.sin(phi+w*x)\n",
    "    exp = torch.exp(-d*x)\n",
    "    y  = exp*2*A*cos\n",
    "    return y"
   ]
  },
  {
   "cell_type": "code",
   "execution_count": 158,
   "metadata": {},
   "outputs": [],
   "source": [
    "x = torch.linspace(0,1,500).requires_grad_()\n",
    "x = x.repeat(100,1)\n",
    "y = oscillator(d, w0, x)"
   ]
  },
  {
   "cell_type": "code",
   "execution_count": 159,
   "metadata": {},
   "outputs": [
    {
     "data": {
      "text/plain": [
       "tensor([[1.0000, 0.9992, 0.9968,  ..., 0.0884, 0.0838, 0.0791],\n",
       "        [1.0000, 0.9992, 0.9968,  ..., 0.0884, 0.0838, 0.0791],\n",
       "        [1.0000, 0.9992, 0.9968,  ..., 0.0884, 0.0838, 0.0791],\n",
       "        ...,\n",
       "        [1.0000, 0.9992, 0.9968,  ..., 0.0884, 0.0838, 0.0791],\n",
       "        [1.0000, 0.9992, 0.9968,  ..., 0.0884, 0.0838, 0.0791],\n",
       "        [1.0000, 0.9992, 0.9968,  ..., 0.0884, 0.0838, 0.0791]],\n",
       "       grad_fn=<MulBackward0>)"
      ]
     },
     "execution_count": 159,
     "metadata": {},
     "output_type": "execute_result"
    }
   ],
   "source": [
    "y"
   ]
  },
  {
   "cell_type": "code",
   "execution_count": 142,
   "metadata": {
    "scrolled": true
   },
   "outputs": [],
   "source": [
    "#torch.diff(input,"
   ]
  },
  {
   "cell_type": "code",
   "execution_count": 160,
   "metadata": {
    "id": "pacpHCktmbZ4"
   },
   "outputs": [],
   "source": [
    "class LSTM(nn.Module):\n",
    "    \n",
    "    def __init__(self, hidden_layers=64,outputs=1 ):\n",
    "        super(LSTM, self).__init__()\n",
    "        self.hidden_layers = hidden_layers\n",
    "        # lstm1, lstm2, linear are all layers in the network\n",
    "        \n",
    "        self.lstm1 = nn.LSTMCell(1, self.hidden_layers)\n",
    "        self.lstm2 = nn.LSTMCell(self.hidden_layers, self.hidden_layers)\n",
    "        self.linear = nn.Linear(self.hidden_layers, outputs)\n",
    "        self.optimizer = torch.optim.LBFGS(self.parameters(), lr=0.8)\n",
    "\n",
    "        \n",
    "        \n",
    "        \n",
    "    def forward(self, y, future_preds=0):\n",
    "        outputs, num_samples = [], y.size(0)\n",
    "        h_t = torch.zeros(num_samples, self.hidden_layers, dtype=torch.float32)\n",
    "        c_t = torch.zeros(num_samples, self.hidden_layers, dtype=torch.float32)\n",
    "        h_t2 = torch.zeros(num_samples, self.hidden_layers, dtype=torch.float32)\n",
    "        c_t2 = torch.zeros(num_samples, self.hidden_layers, dtype=torch.float32)\n",
    "        \n",
    "        for time_step in y.split(1, dim=1):\n",
    "            # N, 1\n",
    "            h_t, c_t = self.lstm1(time_step, (h_t, c_t)) # initial hidden and cell states\n",
    "            h_t2, c_t2 = self.lstm2(h_t, (h_t2, c_t2)) # new hidden and cell states\n",
    "            output = self.linear(h_t2) # output from the last FC layer\n",
    "            outputs.append(output)\n",
    "            \n",
    "        for i in range(future_preds):\n",
    "            # this only generates future predictions if we pass in future_preds>0\n",
    "            # mirrors the code above, using last output/prediction as input\n",
    "            h_t, c_t = self.lstm1(output, (h_t, c_t))\n",
    "            h_t2, c_t2 = self.lstm2(h_t, (h_t2, c_t2))\n",
    "            output = self.linear(h_t2)\n",
    "            outputs.append(output)\n",
    "            \n",
    "        # transform list to tensor    \n",
    "        outputs = torch.cat(outputs, dim=1)\n",
    "        return outputs\n",
    "    \n"
   ]
  },
  {
   "cell_type": "markdown",
   "metadata": {},
   "source": [
    "2 min "
   ]
  },
  {
   "cell_type": "code",
   "execution_count": 185,
   "metadata": {},
   "outputs": [],
   "source": [
    "class PhysicsInformedNN():\n",
    "    \n",
    "    def __init__(self):\n",
    "        # deep neural networks\n",
    "        self.dnn = LSTM()\n",
    "        \n",
    "        \n",
    "    def net_u(self,t,future_preds=0):  \n",
    "        u = self.dnn.forward(t, future_preds)\n",
    "        return u\n",
    "    \n",
    "    def derivates(self, u ,coordinates):\n",
    "        \n",
    "        coordinates = (coordinates,)\n",
    "        u_t = torch.gradient(u, spacing = coordinates)[0] \n",
    "        u_tt = torch.gradient(u, spacing = coordinates)[0] \n",
    "\n",
    "        return u_t , u_tt\n",
    "    \n",
    "    def net_f(self,t,lambda1=4.0,lambda2=400.0):\n",
    "        \"\"\" The pytorch autograd version of calculating residual \"\"\"\n",
    "\n",
    "        u = self.net_u(t)\n",
    "        \n",
    "        u_t = torch.zeros(len(u),len(u[0]))\n",
    "        u_tt = torch.zeros(len(u),len(u[0]))\n",
    "        \n",
    "        coordinate_t = torch.linspace(0,1,len(u[0]))\n",
    "            \n",
    "        for i , time_serie in enumerate(u): \n",
    "            u_t[i], u_tt[i] =  self.derivates(time_serie, t)\n",
    "            \n",
    "        f = u_tt + lambda1*u_t + lambda2*u\n",
    "        return f , u , u_t , u_tt\n",
    "    \n",
    "    def predict(self, t,future_preds=0):\n",
    "        self.dnn.eval()\n",
    "        u = self.net_u(t,future_preds=0)\n",
    "        return u "
   ]
  },
  {
   "cell_type": "code",
   "execution_count": 186,
   "metadata": {},
   "outputs": [],
   "source": [
    "model = PhysicsInformedNN()\n"
   ]
  },
  {
   "cell_type": "code",
   "execution_count": null,
   "metadata": {
    "colab": {
     "base_uri": "https://localhost:8080/"
    },
    "id": "8-cEpfStDpoR",
    "outputId": "b1604aee-4b92-472b-b92b-59882d6ef438"
   },
   "outputs": [],
   "source": [
    "\n",
    "# set random seed to 0\n",
    "np.random.seed(0)\n",
    "torch.manual_seed(0)\n",
    "# load data and make training set\n",
    "inpu = y[3:, :-1]\n",
    "target =y[3:, 1:]\n",
    "test_input = y[:3, :-1]\n",
    "test_target = y[:3, 1:]\n",
    "# build the model\n",
    "seq = LSTM()\n",
    "criterion = nn.MSELoss()\n",
    "# use LBFGS as optimizer since we can load the whole data to train\n",
    "\n",
    "#begin to train\n",
    "\n",
    "for i in range(10):\n",
    "    print('STEP: ', i)\n",
    "    def closure():\n",
    "        \n",
    "        seq.optimizer.zero_grad()\n",
    "        out = seq(inpu)\n",
    "        loss = criterion(out, target)\n",
    "        print('loss:', loss.item())\n",
    "        loss.backward()\n",
    "        return loss\n",
    "    seq.optimizer.step(closure)\n",
    "    # begin to predict, no need to track gradient here\n",
    "    with torch.no_grad():\n",
    "        future = 500\n",
    "        pred = seq.forward(test_input, future_preds=future)\n",
    "        loss = criterion(pred[:, :-future], test_target)\n",
    "        print('test loss:', loss.item())\n",
    "        y = pred.detach().numpy()\n",
    "    \n",
    "    # draw the result\n",
    "    plt.figure(figsize=(30,10))\n",
    "    plt.title('Predict future values for time sequences\\n(Dashlines are predicted values)', fontsize=30)\n",
    "    plt.xlabel('x', fontsize=20)\n",
    "    plt.ylabel('y', fontsize=20)\n",
    "    plt.xticks(fontsize=20)\n",
    "    plt.yticks(fontsize=20)\n",
    "    plt.scatter(, y[0], linewidth = 2.0)\n",
    "    plt.scatter(x_test[1],y_test[1])\n",
    "    #plt.savefig('plots_lstm/predict%d.jpg'%i)\n",
    "    plt.show()\n",
    "    plt.close()"
   ]
  },
  {
   "cell_type": "code",
   "execution_count": null,
   "metadata": {
    "id": "D7OG8OTUmP4H"
   },
   "outputs": [],
   "source": []
  },
  {
   "cell_type": "code",
   "execution_count": null,
   "metadata": {},
   "outputs": [],
   "source": []
  }
 ],
 "metadata": {
  "colab": {
   "name": "scratchpad",
   "provenance": []
  },
  "kernelspec": {
   "display_name": "Python 3 (ipykernel)",
   "language": "python",
   "name": "python3"
  },
  "language_info": {
   "codemirror_mode": {
    "name": "ipython",
    "version": 3
   },
   "file_extension": ".py",
   "mimetype": "text/x-python",
   "name": "python",
   "nbconvert_exporter": "python",
   "pygments_lexer": "ipython3",
   "version": "3.7.11"
  }
 },
 "nbformat": 4,
 "nbformat_minor": 1
}
