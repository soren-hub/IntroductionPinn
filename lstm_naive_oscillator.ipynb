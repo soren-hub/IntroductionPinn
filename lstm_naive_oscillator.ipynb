{
 "cells": [
  {
   "cell_type": "code",
   "execution_count": 1,
   "metadata": {
    "id": "PtSpF4qpDEOM"
   },
   "outputs": [],
   "source": [
    "import torch \n",
    "import torch.nn as nn\n",
    "import torch.nn as nn\n",
    "import numpy as np \n",
    "import matplotlib.pyplot as plt\n",
    "\n",
    "# CUDA support \n",
    "if torch.cuda.is_available():\n",
    "    device = torch.device('cuda')\n",
    "else:\n",
    "    device = torch.device('cpu')"
   ]
  },
  {
   "cell_type": "code",
   "execution_count": 2,
   "metadata": {
    "id": "E5SkVuCLsKbe"
   },
   "outputs": [],
   "source": [
    "def oscillator(d, w0, x):\n",
    "    \n",
    "    \"\"\"\n",
    "    @author: bmoseley\n",
    "    Defines the analytical solution to the 1D underdamped harmonic oscillator problem. \n",
    "    Equations taken from: https://beltoforion.de/en/harmonic_oscillator/\n",
    "    \"\"\"\n",
    "    assert d < w0\n",
    "    w = np.sqrt(w0**2-d**2)\n",
    "    phi = np.arctan(-d/w)\n",
    "    A = 1/(2*np.cos(phi))\n",
    "    cos = np.cos(phi+w*x)\n",
    "    sin = np.sin(phi+w*x)\n",
    "    exp = np.exp(-d*x)\n",
    "    y  = exp*2*A*cos\n",
    "    return y"
   ]
  },
  {
   "cell_type": "code",
   "execution_count": 3,
   "metadata": {
    "id": "cFzNhFrxsbBT"
   },
   "outputs": [],
   "source": [
    "d, w0 = 2, 20"
   ]
  },
  {
   "cell_type": "code",
   "execution_count": 4,
   "metadata": {
    "id": "dhlVvtRluxJu"
   },
   "outputs": [],
   "source": [
    "x = np.linspace(0,1,500)\n",
    "x_test=np.linspace(1,2,500)"
   ]
  },
  {
   "cell_type": "code",
   "execution_count": 5,
   "metadata": {
    "id": "YN_r5B7HvBOK"
   },
   "outputs": [],
   "source": [
    "x = np.array([x for _ in range(100)])\n",
    "x_test= np.array([x_test for _ in range(100)])\n"
   ]
  },
  {
   "cell_type": "code",
   "execution_count": 6,
   "metadata": {
    "colab": {
     "base_uri": "https://localhost:8080/",
     "height": 300
    },
    "id": "Lcbr1y_2sQss",
    "outputId": "1c76cdb9-e5dc-4195-965c-02f1dd608130"
   },
   "outputs": [
    {
     "name": "stdout",
     "output_type": "stream",
     "text": [
      "(100, 500) (100, 500)\n"
     ]
    },
    {
     "data": {
      "text/plain": [
       "<matplotlib.collections.PathCollection at 0x17c21669fc8>"
      ]
     },
     "execution_count": 6,
     "metadata": {},
     "output_type": "execute_result"
    },
    {
     "data": {
      "image/png": "[encoded data removed]",
      "text/plain": [
       "<Figure size 432x288 with 1 Axes>"
      ]
     },
     "metadata": {
      "needs_background": "light"
     },
     "output_type": "display_data"
    }
   ],
   "source": [
    "\n",
    "N = 100 # number of samples\n",
    "\n",
    "y = oscillator(d, w0, x).astype(np.float32)\n",
    "y_test =oscillator(d, w0, x_test).astype(np.float32)\n",
    "print(x.shape,y.shape)\n",
    "plt.scatter(x[1],y[1])\n",
    "plt.scatter(x_test[1],y_test[1])"
   ]
  },
  {
   "cell_type": "code",
   "execution_count": 7,
   "metadata": {
    "id": "pacpHCktmbZ4"
   },
   "outputs": [],
   "source": [
    "class LSTM(nn.Module):\n",
    "    \n",
    "    def __init__(self, hidden_layers=64,outputs=1 ):\n",
    "        super(LSTM, self).__init__()\n",
    "        self.hidden_layers = hidden_layers\n",
    "        # lstm1, lstm2, linear are all layers in the network\n",
    "        \n",
    "        self.lstm1 = nn.LSTMCell(1, self.hidden_layers)\n",
    "        self.lstm2 = nn.LSTMCell(self.hidden_layers, self.hidden_layers)\n",
    "        self.linear = nn.Linear(self.hidden_layers, outputs)\n",
    "        self.optimizer = torch.optim.LBFGS(self.parameters(), lr=0.8)\n",
    "\n",
    "        \n",
    "        \n",
    "        \n",
    "    def forward(self, y, future_preds=0):\n",
    "        outputs, num_samples = [], y.size(0)\n",
    "        h_t = torch.zeros(num_samples, self.hidden_layers, dtype=torch.float32)\n",
    "        c_t = torch.zeros(num_samples, self.hidden_layers, dtype=torch.float32)\n",
    "        h_t2 = torch.zeros(num_samples, self.hidden_layers, dtype=torch.float32)\n",
    "        c_t2 = torch.zeros(num_samples, self.hidden_layers, dtype=torch.float32)\n",
    "        \n",
    "        for time_step in y.split(1, dim=1):\n",
    "            # N, 1\n",
    "            h_t, c_t = self.lstm1(time_step, (h_t, c_t)) # initial hidden and cell states\n",
    "            h_t2, c_t2 = self.lstm2(h_t, (h_t2, c_t2)) # new hidden and cell states\n",
    "            output = self.linear(h_t2) # output from the last FC layer\n",
    "            outputs.append(output)\n",
    "            \n",
    "        for i in range(future_preds):\n",
    "            # this only generates future predictions if we pass in future_preds>0\n",
    "            # mirrors the code above, using last output/prediction as input\n",
    "            h_t, c_t = self.lstm1(output, (h_t, c_t))\n",
    "            h_t2, c_t2 = self.lstm2(h_t, (h_t2, c_t2))\n",
    "            output = self.linear(h_t2)\n",
    "            outputs.append(output)\n",
    "            \n",
    "        # transform list to tensor    \n",
    "        outputs = torch.cat(outputs, dim=1)\n",
    "        return outputs\n",
    "    \n",
    "    "
   ]
  },
  {
   "cell_type": "markdown",
   "metadata": {},
   "source": [
    "2 min "
   ]
  },
  {
   "cell_type": "code",
   "execution_count": null,
   "metadata": {},
   "outputs": [],
   "source": []
  },
  {
   "cell_type": "code",
   "execution_count": 9,
   "metadata": {
    "colab": {
     "base_uri": "https://localhost:8080/"
    },
    "id": "8-cEpfStDpoR",
    "outputId": "b1604aee-4b92-472b-b92b-59882d6ef438"
   },
   "outputs": [
    {
     "name": "stdout",
     "output_type": "stream",
     "text": [
      "STEP:  0\n",
      "loss: 0.1396332085132599\n",
      "loss: 0.13158999383449554\n",
      "loss: 0.12615422904491425\n",
      "loss: 0.1252409964799881\n",
      "loss: 0.1235985979437828\n",
      "loss: 0.11951195448637009\n",
      "loss: 0.10805456340312958\n",
      "loss: 0.024462604895234108\n",
      "loss: 0.02245509624481201\n",
      "loss: 0.021421214565634727\n",
      "loss: 0.006910533178597689\n",
      "loss: 0.005198265425860882\n",
      "loss: 0.004944779444485903\n",
      "loss: 0.004915028344839811\n",
      "loss: 0.004750629886984825\n",
      "loss: 0.004457108210772276\n",
      "loss: 0.0038176379166543484\n",
      "loss: 0.002758422400802374\n",
      "loss: 0.0012832175707444549\n",
      "loss: 0.0006300709210336208\n",
      "test loss: 0.0005763949011452496\n",
      "STEP:  1\n",
      "loss: 0.0005763949593529105\n",
      "loss: 0.0005427870783023536\n",
      "loss: 0.000539297005161643\n",
      "loss: 0.0005366987898014486\n",
      "loss: 0.0005305015947669744\n",
      "loss: 0.0005192933022044599\n",
      "loss: 0.000500545313116163\n",
      "loss: 0.00047110908781178296\n",
      "loss: 0.00042232227860949934\n",
      "loss: 0.0003654086322057992\n",
      "loss: 0.0003462787135504186\n",
      "loss: 0.0003442013403400779\n",
      "loss: 0.0003431352670304477\n",
      "loss: 0.00034230135497637093\n",
      "loss: 0.0003408108896110207\n",
      "loss: 0.00033744837855920196\n",
      "loss: 0.0003294415364507586\n",
      "loss: 0.0003069239901378751\n",
      "loss: 0.0004894501180388033\n",
      "loss: 0.0002488966565579176\n",
      "test loss: 0.00023096881341189146\n",
      "STEP:  2\n",
      "loss: 0.00023096881341189146\n",
      "loss: 0.00023590915952809155\n",
      "loss: 0.0001910671271616593\n",
      "loss: 0.000189004756975919\n",
      "loss: 0.00018760525563266128\n",
      "loss: 0.00018718130013439804\n",
      "loss: 0.00018570892279967666\n",
      "loss: 0.00018118620209861547\n",
      "loss: 0.00017469875456299633\n",
      "loss: 0.0001723274908727035\n",
      "loss: 0.0001705982576822862\n",
      "loss: 0.000166506550158374\n",
      "loss: 0.0001566690916661173\n",
      "loss: 0.00013976807531435043\n",
      "loss: 0.00012268259888514876\n",
      "loss: 0.00010056281462311745\n",
      "loss: 8.162977610481903e-05\n",
      "loss: 6.893813406350091e-05\n",
      "loss: 6.861107976874337e-05\n",
      "loss: 6.688160647172481e-05\n",
      "test loss: 6.662811210844666e-05\n",
      "STEP:  3\n",
      "loss: 6.662806845270097e-05\n",
      "loss: 6.637394108111039e-05\n",
      "loss: 6.586503150174394e-05\n",
      "loss: 6.445005419664085e-05\n",
      "loss: 6.231520092114806e-05\n",
      "loss: 5.7358527556061745e-05\n",
      "loss: 5.0743026804411784e-05\n",
      "loss: 4.573314799927175e-05\n",
      "loss: 4.260858622728847e-05\n",
      "loss: 4.230741615174338e-05\n",
      "loss: 3.976729203714058e-05\n",
      "loss: 3.865258258883841e-05\n",
      "loss: 3.526491127558984e-05\n",
      "loss: 3.384015872143209e-05\n",
      "loss: 3.268281579948962e-05\n",
      "loss: 3.2263305911328644e-05\n",
      "loss: 3.196096440660767e-05\n",
      "loss: 3.1816471164347604e-05\n",
      "loss: 3.171365460730158e-05\n",
      "loss: 3.1572242733091116e-05\n",
      "test loss: 3.127178570139222e-05\n",
      "STEP:  4\n",
      "loss: 3.1271716579794884e-05\n",
      "loss: 3.0601106118410826e-05\n",
      "loss: 2.9401076972135343e-05\n",
      "loss: 2.728778235905338e-05\n",
      "loss: 2.469899300194811e-05\n",
      "loss: 2.124357888533268e-05\n",
      "loss: 1.515632447990356e-05\n",
      "loss: 1.5838102626730688e-05\n",
      "loss: 1.1080337571911514e-05\n",
      "loss: 1.06731185951503e-05\n",
      "loss: 1.0201672012044583e-05\n",
      "loss: 9.688277714303695e-06\n",
      "loss: 9.472216333961114e-06\n",
      "loss: 9.052620043803472e-06\n",
      "loss: 8.953731594374403e-06\n",
      "loss: 8.815160072117578e-06\n",
      "loss: 8.545591299480293e-06\n",
      "loss: 8.032468940655235e-06\n",
      "loss: 7.328109404625138e-06\n",
      "loss: 6.308283900580136e-06\n",
      "test loss: 5.838861852680566e-06\n",
      "STEP:  5\n",
      "loss: 5.83885866944911e-06\n",
      "loss: 7.88969118730165e-05\n",
      "loss: 4.700542376667727e-06\n",
      "loss: 4.2614447011146694e-06\n",
      "loss: 3.920732979167951e-06\n",
      "loss: 3.601484650062048e-06\n",
      "loss: 3.3049859666789416e-06\n",
      "loss: 3.077985866184463e-06\n",
      "loss: 3.0070211778365774e-06\n",
      "loss: 2.979551936732605e-06\n",
      "loss: 2.9602863378386246e-06\n",
      "loss: 2.9363318390096538e-06\n",
      "loss: 2.9057353003736353e-06\n",
      "loss: 2.8776235012628604e-06\n",
      "loss: 2.849594011422596e-06\n",
      "loss: 2.8217859835422132e-06\n",
      "loss: 2.7929818315897137e-06\n",
      "loss: 2.7678563583322102e-06\n",
      "loss: 2.742362767094164e-06\n",
      "loss: 2.6869229259318672e-06\n",
      "test loss: 2.6044615424325457e-06\n",
      "STEP:  6\n",
      "loss: 2.6044619971798966e-06\n",
      "loss: 2.5170027129206574e-06\n",
      "loss: 2.427334493404487e-06\n",
      "loss: 2.326156845811056e-06\n",
      "loss: 2.2225028715183726e-06\n",
      "loss: 2.1010796444898006e-06\n",
      "loss: 1.9519068246154347e-06\n",
      "loss: 1.8404250567982672e-06\n",
      "loss: 1.6745747188906535e-06\n",
      "loss: 1.5424599268953898e-06\n",
      "loss: 1.382436380481522e-06\n",
      "loss: 1.2643517948163208e-06\n",
      "loss: 1.747291321407829e-06\n",
      "loss: 1.1351605735399062e-06\n",
      "loss: 1.0686055702535668e-06\n",
      "loss: 8.42056749661424e-07\n",
      "loss: 7.750163035780133e-07\n",
      "loss: 7.316517667277367e-07\n",
      "loss: 7.153309979912592e-07\n",
      "loss: 7.003684459050419e-07\n",
      "test loss: 6.866673629701836e-07\n",
      "STEP:  7\n",
      "loss: 6.866638386782142e-07\n",
      "loss: 6.760687369933294e-07\n",
      "loss: 6.683019933007017e-07\n",
      "loss: 6.627379320889304e-07\n",
      "loss: 6.580382319043565e-07\n",
      "loss: 6.502941118924355e-07\n",
      "loss: 6.382910555657872e-07\n",
      "loss: 6.143164341665397e-07\n",
      "loss: 5.725268579226395e-07\n",
      "loss: 5.279621291265357e-07\n",
      "loss: 4.713697023817076e-07\n",
      "loss: 4.3247263192824903e-07\n",
      "loss: 4.158199828907527e-07\n",
      "loss: 4.103886510620214e-07\n",
      "loss: 4.0841189274942735e-07\n",
      "loss: 4.0650490973348496e-07\n",
      "loss: 4.048997936934029e-07\n",
      "loss: 4.030855222936225e-07\n",
      "loss: 4.0141864587894815e-07\n",
      "loss: 4.005280800356559e-07\n",
      "test loss: 4.005232483450527e-07\n",
      "STEP:  8\n",
      "loss: 4.005280800356559e-07\n",
      "test loss: 4.005232483450527e-07\n",
      "STEP:  9\n",
      "loss: 4.005280800356559e-07\n",
      "test loss: 4.005232483450527e-07\n"
     ]
    }
   ],
   "source": [
    "\n",
    "# set random seed to 0\n",
    "np.random.seed(0)\n",
    "torch.manual_seed(0)\n",
    "# load data and make training set\n",
    "inpu = torch.from_numpy(y[3:, :-1])\n",
    "target = torch.from_numpy(y[3:, 1:])\n",
    "test_input = torch.from_numpy(y[:3, :-1])\n",
    "test_target = torch.from_numpy(y[:3, 1:])\n",
    "# build the model\n",
    "seq = LSTM()\n",
    "criterion = nn.MSELoss()\n",
    "# use LBFGS as optimizer since we can load the whole data to train\n",
    "\n",
    "#begin to train\n",
    "eje_x = np.linspace(0,2,1498)\n",
    "for i in range(10):\n",
    "    print('STEP: ', i)\n",
    "    def closure():\n",
    "        seq.optimizer.zero_grad()\n",
    "        out = seq(inpu)\n",
    "        loss = criterion(out, target)\n",
    "        print('loss:', loss.item())\n",
    "        loss.backward()\n",
    "        return loss\n",
    "    seq.optimizer.step(closure)\n",
    "    # begin to predict, no need to track gradient here\n",
    "    with torch.no_grad():\n",
    "        future = 500\n",
    "        pred = seq.forward(test_input, future_preds=future)\n",
    "        loss = criterion(pred[:, :-future], test_target)\n",
    "        print('test loss:', loss.item())\n",
    "        y = pred.detach().numpy()\n",
    "    # draw the result\n",
    "    plt.figure(figsize=(30,10))\n",
    "    plt.title('Predict future values for time sequences\\n(Dashlines are predicted values)', fontsize=30)\n",
    "    plt.xlabel('x', fontsize=20)\n",
    "    plt.ylabel('y', fontsize=20)\n",
    "    plt.xticks(fontsize=20)\n",
    "    plt.yticks(fontsize=20)\n",
    "    d_t=len(y[:inpu.size(1)][0])\n",
    "    plt.scatter(np.linspace(0,2,d_t), y[:inpu.size(1)][0], linewidth = 2.0)\n",
    "    plt.savefig('plots_lstm/predict%d.jpg'%i)\n",
    "    plt.close()"
   ]
  },
  {
   "cell_type": "code",
   "execution_count": null,
   "metadata": {
    "id": "D7OG8OTUmP4H"
   },
   "outputs": [],
   "source": []
  }
 ],
 "metadata": {
  "colab": {
   "name": "scratchpad",
   "provenance": []
  },
  "kernelspec": {
   "display_name": "Python 3 (ipykernel)",
   "language": "python",
   "name": "python3"
  },
  "language_info": {
   "codemirror_mode": {
    "name": "ipython",
    "version": 3
   },
   "file_extension": ".py",
   "mimetype": "text/x-python",
   "name": "python",
   "nbconvert_exporter": "python",
   "pygments_lexer": "ipython3",
   "version": "3.7.11"
  }
 },
 "nbformat": 4,
 "nbformat_minor": 1
}
